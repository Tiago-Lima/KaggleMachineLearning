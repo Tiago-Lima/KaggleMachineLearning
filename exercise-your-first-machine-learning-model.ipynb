{
 "cells": [
  {
   "cell_type": "markdown",
   "id": "f4126daa",
   "metadata": {
    "papermill": {
     "duration": 0.006565,
     "end_time": "2023-04-19T23:41:29.166491",
     "exception": false,
     "start_time": "2023-04-19T23:41:29.159926",
     "status": "completed"
    },
    "tags": []
   },
   "source": [
    "**This notebook is an exercise in the [Introduction to Machine Learning](https://www.kaggle.com/learn/intro-to-machine-learning) course.  You can reference the tutorial at [this link](https://www.kaggle.com/dansbecker/your-first-machine-learning-model).**\n",
    "\n",
    "---\n"
   ]
  },
  {
   "cell_type": "markdown",
   "id": "a6085453",
   "metadata": {
    "papermill": {
     "duration": 0.005124,
     "end_time": "2023-04-19T23:41:29.177242",
     "exception": false,
     "start_time": "2023-04-19T23:41:29.172118",
     "status": "completed"
    },
    "tags": []
   },
   "source": [
    "## Recap\n",
    "So far, you have loaded your data and reviewed it with the following code. Run this cell to set up your coding environment where the previous step left off."
   ]
  },
  {
   "cell_type": "code",
   "execution_count": 1,
   "id": "cf603734",
   "metadata": {
    "execution": {
     "iopub.execute_input": "2023-04-19T23:41:29.191133Z",
     "iopub.status.busy": "2023-04-19T23:41:29.190660Z",
     "iopub.status.idle": "2023-04-19T23:41:30.849582Z",
     "shell.execute_reply": "2023-04-19T23:41:30.848048Z"
    },
    "papermill": {
     "duration": 1.669197,
     "end_time": "2023-04-19T23:41:30.852632",
     "exception": false,
     "start_time": "2023-04-19T23:41:29.183435",
     "status": "completed"
    },
    "tags": []
   },
   "outputs": [
    {
     "name": "stdout",
     "output_type": "stream",
     "text": [
      "Setup Complete\n"
     ]
    }
   ],
   "source": [
    "# Code you have previously used to load data\n",
    "import pandas as pd\n",
    "\n",
    "# Path of the file to read\n",
    "iowa_file_path = '../input/home-data-for-ml-course/train.csv'\n",
    "\n",
    "home_data = pd.read_csv(iowa_file_path)\n",
    "\n",
    "# Set up code checking\n",
    "from learntools.core import binder\n",
    "binder.bind(globals())\n",
    "from learntools.machine_learning.ex3 import *\n",
    "\n",
    "print(\"Setup Complete\")"
   ]
  },
  {
   "cell_type": "markdown",
   "id": "554ca3ce",
   "metadata": {
    "papermill": {
     "duration": 0.005463,
     "end_time": "2023-04-19T23:41:30.863966",
     "exception": false,
     "start_time": "2023-04-19T23:41:30.858503",
     "status": "completed"
    },
    "tags": []
   },
   "source": [
    "# Exercises\n",
    "\n",
    "## Step 1: Specify Prediction Target\n",
    "Select the target variable, which corresponds to the sales price. Save this to a new variable called `y`. You'll need to print a list of the columns to find the name of the column you need.\n"
   ]
  },
  {
   "cell_type": "markdown",
   "id": "a4b00488",
   "metadata": {
    "jupyter": {
     "outputs_hidden": true
    },
    "papermill": {
     "duration": 0.005263,
     "end_time": "2023-04-19T23:41:30.875271",
     "exception": false,
     "start_time": "2023-04-19T23:41:30.870008",
     "status": "completed"
    },
    "tags": []
   },
   "source": [
    "# print the list of columns in the dataset to find the name of the prediction target\n",
    "home_data.columns\n"
   ]
  },
  {
   "cell_type": "code",
   "execution_count": 2,
   "id": "09adca58",
   "metadata": {
    "execution": {
     "iopub.execute_input": "2023-04-19T23:41:30.888600Z",
     "iopub.status.busy": "2023-04-19T23:41:30.888201Z",
     "iopub.status.idle": "2023-04-19T23:41:30.897339Z",
     "shell.execute_reply": "2023-04-19T23:41:30.895977Z"
    },
    "papermill": {
     "duration": 0.019093,
     "end_time": "2023-04-19T23:41:30.900035",
     "exception": false,
     "start_time": "2023-04-19T23:41:30.880942",
     "status": "completed"
    },
    "tags": []
   },
   "outputs": [
    {
     "data": {
      "text/plain": [
       "Index(['Id', 'MSSubClass', 'MSZoning', 'LotFrontage', 'LotArea', 'Street',\n",
       "       'Alley', 'LotShape', 'LandContour', 'Utilities', 'LotConfig',\n",
       "       'LandSlope', 'Neighborhood', 'Condition1', 'Condition2', 'BldgType',\n",
       "       'HouseStyle', 'OverallQual', 'OverallCond', 'YearBuilt', 'YearRemodAdd',\n",
       "       'RoofStyle', 'RoofMatl', 'Exterior1st', 'Exterior2nd', 'MasVnrType',\n",
       "       'MasVnrArea', 'ExterQual', 'ExterCond', 'Foundation', 'BsmtQual',\n",
       "       'BsmtCond', 'BsmtExposure', 'BsmtFinType1', 'BsmtFinSF1',\n",
       "       'BsmtFinType2', 'BsmtFinSF2', 'BsmtUnfSF', 'TotalBsmtSF', 'Heating',\n",
       "       'HeatingQC', 'CentralAir', 'Electrical', '1stFlrSF', '2ndFlrSF',\n",
       "       'LowQualFinSF', 'GrLivArea', 'BsmtFullBath', 'BsmtHalfBath', 'FullBath',\n",
       "       'HalfBath', 'BedroomAbvGr', 'KitchenAbvGr', 'KitchenQual',\n",
       "       'TotRmsAbvGrd', 'Functional', 'Fireplaces', 'FireplaceQu', 'GarageType',\n",
       "       'GarageYrBlt', 'GarageFinish', 'GarageCars', 'GarageArea', 'GarageQual',\n",
       "       'GarageCond', 'PavedDrive', 'WoodDeckSF', 'OpenPorchSF',\n",
       "       'EnclosedPorch', '3SsnPorch', 'ScreenPorch', 'PoolArea', 'PoolQC',\n",
       "       'Fence', 'MiscFeature', 'MiscVal', 'MoSold', 'YrSold', 'SaleType',\n",
       "       'SaleCondition', 'SalePrice'],\n",
       "      dtype='object')"
      ]
     },
     "execution_count": 2,
     "metadata": {},
     "output_type": "execute_result"
    }
   ],
   "source": [
    "home_data.columns\n"
   ]
  },
  {
   "cell_type": "code",
   "execution_count": 3,
   "id": "58dfd8e7",
   "metadata": {
    "execution": {
     "iopub.execute_input": "2023-04-19T23:41:30.913708Z",
     "iopub.status.busy": "2023-04-19T23:41:30.913306Z",
     "iopub.status.idle": "2023-04-19T23:41:30.929992Z",
     "shell.execute_reply": "2023-04-19T23:41:30.928227Z"
    },
    "papermill": {
     "duration": 0.026544,
     "end_time": "2023-04-19T23:41:30.932467",
     "exception": false,
     "start_time": "2023-04-19T23:41:30.905923",
     "status": "completed"
    },
    "tags": []
   },
   "outputs": [
    {
     "data": {
      "application/javascript": [
       "parent.postMessage({\"jupyterEvent\": \"custom.exercise_interaction\", \"data\": {\"outcomeType\": 1, \"valueTowardsCompletion\": 0.25, \"interactionType\": 1, \"questionType\": 2, \"questionId\": \"1_SetTarget\", \"learnToolsVersion\": \"0.3.4\", \"failureMessage\": \"\", \"exceptionClass\": \"\", \"trace\": \"\"}}, \"*\")"
      ],
      "text/plain": [
       "<IPython.core.display.Javascript object>"
      ]
     },
     "metadata": {},
     "output_type": "display_data"
    },
    {
     "data": {
      "text/markdown": [
       "<span style=\"color:#33cc33\">Correct</span>"
      ],
      "text/plain": [
       "Correct"
      ]
     },
     "metadata": {},
     "output_type": "display_data"
    }
   ],
   "source": [
    "y = home_data.SalePrice\n",
    "\n",
    "# Check your answer\n",
    "step_1.check()"
   ]
  },
  {
   "cell_type": "code",
   "execution_count": 4,
   "id": "ab48a190",
   "metadata": {
    "collapsed": true,
    "execution": {
     "iopub.execute_input": "2023-04-19T23:41:30.947440Z",
     "iopub.status.busy": "2023-04-19T23:41:30.946151Z",
     "iopub.status.idle": "2023-04-19T23:41:30.951614Z",
     "shell.execute_reply": "2023-04-19T23:41:30.950644Z"
    },
    "jupyter": {
     "outputs_hidden": true
    },
    "papermill": {
     "duration": 0.015821,
     "end_time": "2023-04-19T23:41:30.954143",
     "exception": false,
     "start_time": "2023-04-19T23:41:30.938322",
     "status": "completed"
    },
    "tags": []
   },
   "outputs": [],
   "source": [
    "# The lines below will show you a hint or the solution.\n",
    "# step_1.hint() \n",
    "# step_1.solution()"
   ]
  },
  {
   "cell_type": "markdown",
   "id": "2cbe0774",
   "metadata": {
    "papermill": {
     "duration": 0.005925,
     "end_time": "2023-04-19T23:41:30.966319",
     "exception": false,
     "start_time": "2023-04-19T23:41:30.960394",
     "status": "completed"
    },
    "tags": []
   },
   "source": [
    "## Step 2: Create X\n",
    "Now you will create a DataFrame called `X` holding the predictive features.\n",
    "\n",
    "Since you want only some columns from the original data, you'll first create a list with the names of the columns you want in `X`.\n",
    "\n",
    "You'll use just the following columns in the list (you can copy and paste the whole list to save some typing, though you'll still need to add quotes):\n",
    "  * LotArea\n",
    "  * YearBuilt\n",
    "  * 1stFlrSF\n",
    "  * 2ndFlrSF\n",
    "  * FullBath\n",
    "  * BedroomAbvGr\n",
    "  * TotRmsAbvGrd\n",
    "\n",
    "After you've created that list of features, use it to create the DataFrame that you'll use to fit the model."
   ]
  },
  {
   "cell_type": "code",
   "execution_count": 5,
   "id": "c8b9c281",
   "metadata": {
    "execution": {
     "iopub.execute_input": "2023-04-19T23:41:30.981103Z",
     "iopub.status.busy": "2023-04-19T23:41:30.980069Z",
     "iopub.status.idle": "2023-04-19T23:41:30.996031Z",
     "shell.execute_reply": "2023-04-19T23:41:30.994671Z"
    },
    "papermill": {
     "duration": 0.02607,
     "end_time": "2023-04-19T23:41:30.998651",
     "exception": false,
     "start_time": "2023-04-19T23:41:30.972581",
     "status": "completed"
    },
    "tags": []
   },
   "outputs": [
    {
     "data": {
      "application/javascript": [
       "parent.postMessage({\"jupyterEvent\": \"custom.exercise_interaction\", \"data\": {\"outcomeType\": 1, \"valueTowardsCompletion\": 0.25, \"interactionType\": 1, \"questionType\": 2, \"questionId\": \"2_SelectPredictionData\", \"learnToolsVersion\": \"0.3.4\", \"failureMessage\": \"\", \"exceptionClass\": \"\", \"trace\": \"\"}}, \"*\")"
      ],
      "text/plain": [
       "<IPython.core.display.Javascript object>"
      ]
     },
     "metadata": {},
     "output_type": "display_data"
    },
    {
     "data": {
      "text/markdown": [
       "<span style=\"color:#33cc33\">Correct</span>"
      ],
      "text/plain": [
       "Correct"
      ]
     },
     "metadata": {},
     "output_type": "display_data"
    }
   ],
   "source": [
    "# Create the list of features below\n",
    "feature_names = ['LotArea','YearBuilt','1stFlrSF','2ndFlrSF','FullBath','BedroomAbvGr','TotRmsAbvGrd']\n",
    "\n",
    "# Select data corresponding to features in feature_names\n",
    "X = home_data[feature_names]\n",
    "\n",
    "# Check your answer\n",
    "step_2.check()"
   ]
  },
  {
   "cell_type": "code",
   "execution_count": 6,
   "id": "45bcf115",
   "metadata": {
    "collapsed": true,
    "execution": {
     "iopub.execute_input": "2023-04-19T23:41:31.013641Z",
     "iopub.status.busy": "2023-04-19T23:41:31.013227Z",
     "iopub.status.idle": "2023-04-19T23:41:31.017439Z",
     "shell.execute_reply": "2023-04-19T23:41:31.016363Z"
    },
    "jupyter": {
     "outputs_hidden": true
    },
    "papermill": {
     "duration": 0.014814,
     "end_time": "2023-04-19T23:41:31.020023",
     "exception": false,
     "start_time": "2023-04-19T23:41:31.005209",
     "status": "completed"
    },
    "tags": []
   },
   "outputs": [],
   "source": [
    "# step_2.hint()\n",
    "# step_2.solution()"
   ]
  },
  {
   "cell_type": "markdown",
   "id": "ad4c626a",
   "metadata": {
    "papermill": {
     "duration": 0.007222,
     "end_time": "2023-04-19T23:41:31.033745",
     "exception": false,
     "start_time": "2023-04-19T23:41:31.026523",
     "status": "completed"
    },
    "tags": []
   },
   "source": [
    "## Review Data\n",
    "Before building a model, take a quick look at **X** to verify it looks sensible"
   ]
  },
  {
   "cell_type": "code",
   "execution_count": 7,
   "id": "1d2e75bf",
   "metadata": {
    "execution": {
     "iopub.execute_input": "2023-04-19T23:41:31.048066Z",
     "iopub.status.busy": "2023-04-19T23:41:31.047619Z",
     "iopub.status.idle": "2023-04-19T23:41:31.095010Z",
     "shell.execute_reply": "2023-04-19T23:41:31.093176Z"
    },
    "papermill": {
     "duration": 0.057647,
     "end_time": "2023-04-19T23:41:31.097730",
     "exception": false,
     "start_time": "2023-04-19T23:41:31.040083",
     "status": "completed"
    },
    "tags": []
   },
   "outputs": [
    {
     "name": "stdout",
     "output_type": "stream",
     "text": [
      "             LotArea    YearBuilt     1stFlrSF     2ndFlrSF     FullBath  \\\n",
      "count    1460.000000  1460.000000  1460.000000  1460.000000  1460.000000   \n",
      "mean    10516.828082  1971.267808  1162.626712   346.992466     1.565068   \n",
      "std      9981.264932    30.202904   386.587738   436.528436     0.550916   \n",
      "min      1300.000000  1872.000000   334.000000     0.000000     0.000000   \n",
      "25%      7553.500000  1954.000000   882.000000     0.000000     1.000000   \n",
      "50%      9478.500000  1973.000000  1087.000000     0.000000     2.000000   \n",
      "75%     11601.500000  2000.000000  1391.250000   728.000000     2.000000   \n",
      "max    215245.000000  2010.000000  4692.000000  2065.000000     3.000000   \n",
      "\n",
      "       BedroomAbvGr  TotRmsAbvGrd  \n",
      "count   1460.000000   1460.000000  \n",
      "mean       2.866438      6.517808  \n",
      "std        0.815778      1.625393  \n",
      "min        0.000000      2.000000  \n",
      "25%        2.000000      5.000000  \n",
      "50%        3.000000      6.000000  \n",
      "75%        3.000000      7.000000  \n",
      "max        8.000000     14.000000  \n",
      "   LotArea  YearBuilt  1stFlrSF  2ndFlrSF  FullBath  BedroomAbvGr  \\\n",
      "0     8450       2003       856       854         2             3   \n",
      "1     9600       1976      1262         0         2             3   \n",
      "2    11250       2001       920       866         2             3   \n",
      "3     9550       1915       961       756         1             3   \n",
      "4    14260       2000      1145      1053         2             4   \n",
      "\n",
      "   TotRmsAbvGrd  \n",
      "0             8  \n",
      "1             6  \n",
      "2             6  \n",
      "3             7  \n",
      "4             9  \n"
     ]
    }
   ],
   "source": [
    "# Review data\n",
    "# print description or statistics from X\n",
    "print(X.describe())\n",
    "\n",
    "# print the top few lines\n",
    "print(X.head())"
   ]
  },
  {
   "cell_type": "code",
   "execution_count": null,
   "id": "ff952f9d",
   "metadata": {
    "papermill": {
     "duration": 0.006272,
     "end_time": "2023-04-19T23:41:31.110540",
     "exception": false,
     "start_time": "2023-04-19T23:41:31.104268",
     "status": "completed"
    },
    "tags": []
   },
   "outputs": [],
   "source": []
  },
  {
   "cell_type": "markdown",
   "id": "ff30c14b",
   "metadata": {
    "papermill": {
     "duration": 0.006118,
     "end_time": "2023-04-19T23:41:31.123293",
     "exception": false,
     "start_time": "2023-04-19T23:41:31.117175",
     "status": "completed"
    },
    "tags": []
   },
   "source": [
    "## Step 3: Specify and Fit Model\n",
    "Create a `DecisionTreeRegressor` and save it iowa_model. Ensure you've done the relevant import from sklearn to run this command.\n",
    "\n",
    "Then fit the model you just created using the data in `X` and `y` that you saved above."
   ]
  },
  {
   "cell_type": "code",
   "execution_count": 8,
   "id": "8b23f9a4",
   "metadata": {
    "execution": {
     "iopub.execute_input": "2023-04-19T23:41:31.138991Z",
     "iopub.status.busy": "2023-04-19T23:41:31.138234Z",
     "iopub.status.idle": "2023-04-19T23:41:31.158670Z",
     "shell.execute_reply": "2023-04-19T23:41:31.157446Z"
    },
    "papermill": {
     "duration": 0.031402,
     "end_time": "2023-04-19T23:41:31.161276",
     "exception": false,
     "start_time": "2023-04-19T23:41:31.129874",
     "status": "completed"
    },
    "tags": []
   },
   "outputs": [
    {
     "data": {
      "application/javascript": [
       "parent.postMessage({\"jupyterEvent\": \"custom.exercise_interaction\", \"data\": {\"outcomeType\": 1, \"valueTowardsCompletion\": 0.25, \"interactionType\": 1, \"questionType\": 2, \"questionId\": \"3_CreateModel\", \"learnToolsVersion\": \"0.3.4\", \"failureMessage\": \"\", \"exceptionClass\": \"\", \"trace\": \"\"}}, \"*\")"
      ],
      "text/plain": [
       "<IPython.core.display.Javascript object>"
      ]
     },
     "metadata": {},
     "output_type": "display_data"
    },
    {
     "data": {
      "text/markdown": [
       "<span style=\"color:#33cc33\">Correct</span>"
      ],
      "text/plain": [
       "Correct"
      ]
     },
     "metadata": {},
     "output_type": "display_data"
    }
   ],
   "source": [
    "# from _ import _\n",
    "from sklearn.tree import DecisionTreeRegressor\n",
    "#specify the model. \n",
    "\n",
    "#For model reproducibility, set a numeric value for random_state when specifying the model\n",
    "iowa_model = DecisionTreeRegressor(random_state=1)\n",
    "\n",
    "# Fit the model\n",
    "iowa_model.fit(X,y)\n",
    "\n",
    "# Check your answer\n",
    "step_3.check()"
   ]
  },
  {
   "cell_type": "code",
   "execution_count": 9,
   "id": "4fd7e780",
   "metadata": {
    "collapsed": true,
    "execution": {
     "iopub.execute_input": "2023-04-19T23:41:31.178161Z",
     "iopub.status.busy": "2023-04-19T23:41:31.176638Z",
     "iopub.status.idle": "2023-04-19T23:41:31.182413Z",
     "shell.execute_reply": "2023-04-19T23:41:31.181456Z"
    },
    "jupyter": {
     "outputs_hidden": true
    },
    "papermill": {
     "duration": 0.016532,
     "end_time": "2023-04-19T23:41:31.184996",
     "exception": false,
     "start_time": "2023-04-19T23:41:31.168464",
     "status": "completed"
    },
    "tags": []
   },
   "outputs": [],
   "source": [
    "# step_3.hint()\n",
    "# step_3.solution()"
   ]
  },
  {
   "cell_type": "markdown",
   "id": "10becf58",
   "metadata": {
    "papermill": {
     "duration": 0.006408,
     "end_time": "2023-04-19T23:41:31.198109",
     "exception": false,
     "start_time": "2023-04-19T23:41:31.191701",
     "status": "completed"
    },
    "tags": []
   },
   "source": [
    "## Step 4: Make Predictions\n",
    "Make predictions with the model's `predict` command using `X` as the data. Save the results to a variable called `predictions`."
   ]
  },
  {
   "cell_type": "code",
   "execution_count": 10,
   "id": "63bbc2a4",
   "metadata": {
    "execution": {
     "iopub.execute_input": "2023-04-19T23:41:31.214336Z",
     "iopub.status.busy": "2023-04-19T23:41:31.213010Z",
     "iopub.status.idle": "2023-04-19T23:41:31.229005Z",
     "shell.execute_reply": "2023-04-19T23:41:31.227830Z"
    },
    "papermill": {
     "duration": 0.026457,
     "end_time": "2023-04-19T23:41:31.231342",
     "exception": false,
     "start_time": "2023-04-19T23:41:31.204885",
     "status": "completed"
    },
    "tags": []
   },
   "outputs": [
    {
     "name": "stdout",
     "output_type": "stream",
     "text": [
      "[208500. 181500. 223500. ... 266500. 142125. 147500.]\n"
     ]
    },
    {
     "data": {
      "application/javascript": [
       "parent.postMessage({\"jupyterEvent\": \"custom.exercise_interaction\", \"data\": {\"outcomeType\": 1, \"valueTowardsCompletion\": 0.25, \"interactionType\": 1, \"questionType\": 2, \"questionId\": \"4_MakePredictions\", \"learnToolsVersion\": \"0.3.4\", \"failureMessage\": \"\", \"exceptionClass\": \"\", \"trace\": \"\"}}, \"*\")"
      ],
      "text/plain": [
       "<IPython.core.display.Javascript object>"
      ]
     },
     "metadata": {},
     "output_type": "display_data"
    },
    {
     "data": {
      "text/markdown": [
       "<span style=\"color:#33cc33\">Correct</span>"
      ],
      "text/plain": [
       "Correct"
      ]
     },
     "metadata": {},
     "output_type": "display_data"
    }
   ],
   "source": [
    "predictions = iowa_model.predict(X)\n",
    "print(predictions)\n",
    "\n",
    "# Check your answer\n",
    "step_4.check()"
   ]
  },
  {
   "cell_type": "code",
   "execution_count": 11,
   "id": "de9f0876",
   "metadata": {
    "collapsed": true,
    "execution": {
     "iopub.execute_input": "2023-04-19T23:41:31.247679Z",
     "iopub.status.busy": "2023-04-19T23:41:31.246968Z",
     "iopub.status.idle": "2023-04-19T23:41:31.252023Z",
     "shell.execute_reply": "2023-04-19T23:41:31.250950Z"
    },
    "jupyter": {
     "outputs_hidden": true
    },
    "papermill": {
     "duration": 0.016302,
     "end_time": "2023-04-19T23:41:31.254696",
     "exception": false,
     "start_time": "2023-04-19T23:41:31.238394",
     "status": "completed"
    },
    "tags": []
   },
   "outputs": [],
   "source": [
    "# step_4.hint()\n",
    "# step_4.solution()"
   ]
  },
  {
   "cell_type": "markdown",
   "id": "75c580f6",
   "metadata": {
    "papermill": {
     "duration": 0.006791,
     "end_time": "2023-04-19T23:41:31.268841",
     "exception": false,
     "start_time": "2023-04-19T23:41:31.262050",
     "status": "completed"
    },
    "tags": []
   },
   "source": [
    "## Think About Your Results\n",
    "\n",
    "Use the `head` method to compare the top few predictions to the actual home values (in `y`) for those same homes. Anything surprising?\n"
   ]
  },
  {
   "cell_type": "code",
   "execution_count": 12,
   "id": "1e88969c",
   "metadata": {
    "execution": {
     "iopub.execute_input": "2023-04-19T23:41:31.285292Z",
     "iopub.status.busy": "2023-04-19T23:41:31.284875Z",
     "iopub.status.idle": "2023-04-19T23:41:31.292186Z",
     "shell.execute_reply": "2023-04-19T23:41:31.290763Z"
    },
    "papermill": {
     "duration": 0.018764,
     "end_time": "2023-04-19T23:41:31.294641",
     "exception": false,
     "start_time": "2023-04-19T23:41:31.275877",
     "status": "completed"
    },
    "tags": []
   },
   "outputs": [
    {
     "name": "stdout",
     "output_type": "stream",
     "text": [
      "0    208500\n",
      "1    181500\n",
      "2    223500\n",
      "3    140000\n",
      "4    250000\n",
      "Name: SalePrice, dtype: int64\n",
      "0    208500\n",
      "1    181500\n",
      "2    223500\n",
      "3    140000\n",
      "4    250000\n",
      "Name: SalePrice, dtype: int64\n"
     ]
    }
   ],
   "source": [
    "# You can write code in this cell\n",
    "\n",
    "print(home_data[\"SalePrice\"].head())\n",
    "print(y.head())\n"
   ]
  },
  {
   "cell_type": "markdown",
   "id": "cd892f5f",
   "metadata": {
    "papermill": {
     "duration": 0.006778,
     "end_time": "2023-04-19T23:41:31.308670",
     "exception": false,
     "start_time": "2023-04-19T23:41:31.301892",
     "status": "completed"
    },
    "tags": []
   },
   "source": [
    "It's natural to ask how accurate the model's predictions will be and how you can improve that. That will be you're next step.\n",
    "\n",
    "# Keep Going\n",
    "\n",
    "You are ready for **[Model Validation](https://www.kaggle.com/dansbecker/model-validation).**\n"
   ]
  },
  {
   "cell_type": "markdown",
   "id": "5f51df32",
   "metadata": {
    "papermill": {
     "duration": 0.00676,
     "end_time": "2023-04-19T23:41:31.322496",
     "exception": false,
     "start_time": "2023-04-19T23:41:31.315736",
     "status": "completed"
    },
    "tags": []
   },
   "source": [
    "---\n",
    "\n",
    "\n",
    "\n",
    "\n",
    "*Have questions or comments? Visit the [course discussion forum](https://www.kaggle.com/learn/intro-to-machine-learning/discussion) to chat with other learners.*"
   ]
  }
 ],
 "metadata": {
  "kernelspec": {
   "display_name": "Python 3",
   "language": "python",
   "name": "python3"
  },
  "language_info": {
   "codemirror_mode": {
    "name": "ipython",
    "version": 3
   },
   "file_extension": ".py",
   "mimetype": "text/x-python",
   "name": "python",
   "nbconvert_exporter": "python",
   "pygments_lexer": "ipython3",
   "version": "3.7.12"
  },
  "papermill": {
   "default_parameters": {},
   "duration": 13.961714,
   "end_time": "2023-04-19T23:41:32.052332",
   "environment_variables": {},
   "exception": null,
   "input_path": "__notebook__.ipynb",
   "output_path": "__notebook__.ipynb",
   "parameters": {},
   "start_time": "2023-04-19T23:41:18.090618",
   "version": "2.4.0"
  }
 },
 "nbformat": 4,
 "nbformat_minor": 5
}
