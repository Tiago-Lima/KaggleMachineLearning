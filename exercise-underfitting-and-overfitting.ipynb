{
 "cells": [
  {
   "cell_type": "markdown",
   "id": "39706893",
   "metadata": {
    "papermill": {
     "duration": 0.004563,
     "end_time": "2023-04-20T16:13:29.641733",
     "exception": false,
     "start_time": "2023-04-20T16:13:29.637170",
     "status": "completed"
    },
    "tags": []
   },
   "source": [
    "**This notebook is an exercise in the [Introduction to Machine Learning](https://www.kaggle.com/learn/intro-to-machine-learning) course.  You can reference the tutorial at [this link](https://www.kaggle.com/dansbecker/underfitting-and-overfitting).**\n",
    "\n",
    "---\n"
   ]
  },
  {
   "cell_type": "markdown",
   "id": "46cf83f0",
   "metadata": {
    "papermill": {
     "duration": 0.003112,
     "end_time": "2023-04-20T16:13:29.648512",
     "exception": false,
     "start_time": "2023-04-20T16:13:29.645400",
     "status": "completed"
    },
    "tags": []
   },
   "source": [
    "## Recap\n",
    "You've built your first model, and now it's time to optimize the size of the tree to make better predictions. Run this cell to set up your coding environment where the previous step left off."
   ]
  },
  {
   "cell_type": "code",
   "execution_count": 1,
   "id": "29971a8c",
   "metadata": {
    "execution": {
     "iopub.execute_input": "2023-04-20T16:13:29.657365Z",
     "iopub.status.busy": "2023-04-20T16:13:29.656645Z",
     "iopub.status.idle": "2023-04-20T16:13:31.084629Z",
     "shell.execute_reply": "2023-04-20T16:13:31.083209Z"
    },
    "papermill": {
     "duration": 1.435814,
     "end_time": "2023-04-20T16:13:31.087671",
     "exception": false,
     "start_time": "2023-04-20T16:13:29.651857",
     "status": "completed"
    },
    "tags": []
   },
   "outputs": [
    {
     "name": "stdout",
     "output_type": "stream",
     "text": [
      "Validation MAE: 29,653\n",
      "\n",
      "Setup complete\n"
     ]
    }
   ],
   "source": [
    "# Code you have previously used to load data\n",
    "import pandas as pd\n",
    "from sklearn.metrics import mean_absolute_error\n",
    "from sklearn.model_selection import train_test_split\n",
    "from sklearn.tree import DecisionTreeRegressor\n",
    "\n",
    "\n",
    "# Path of the file to read\n",
    "iowa_file_path = '../input/home-data-for-ml-course/train.csv'\n",
    "\n",
    "home_data = pd.read_csv(iowa_file_path)\n",
    "# Create target object and call it y\n",
    "y = home_data.SalePrice\n",
    "# Create X\n",
    "features = ['LotArea', 'YearBuilt', '1stFlrSF', '2ndFlrSF', 'FullBath', 'BedroomAbvGr', 'TotRmsAbvGrd']\n",
    "X = home_data[features]\n",
    "\n",
    "# Split into validation and training data\n",
    "train_X, val_X, train_y, val_y = train_test_split(X, y, random_state=1)\n",
    "\n",
    "# Specify Model\n",
    "iowa_model = DecisionTreeRegressor(random_state=1)\n",
    "# Fit Model\n",
    "iowa_model.fit(train_X, train_y)\n",
    "\n",
    "# Make validation predictions and calculate mean absolute error\n",
    "val_predictions = iowa_model.predict(val_X)\n",
    "val_mae = mean_absolute_error(val_predictions, val_y)\n",
    "print(\"Validation MAE: {:,.0f}\".format(val_mae))\n",
    "\n",
    "# Set up code checking\n",
    "from learntools.core import binder\n",
    "binder.bind(globals())\n",
    "from learntools.machine_learning.ex5 import *\n",
    "print(\"\\nSetup complete\")"
   ]
  },
  {
   "cell_type": "markdown",
   "id": "d9f40923",
   "metadata": {
    "papermill": {
     "duration": 0.003333,
     "end_time": "2023-04-20T16:13:31.094853",
     "exception": false,
     "start_time": "2023-04-20T16:13:31.091520",
     "status": "completed"
    },
    "tags": []
   },
   "source": [
    "# Exercises\n",
    "You could write the function `get_mae` yourself. For now, we'll supply it. This is the same function you read about in the previous lesson. Just run the cell below."
   ]
  },
  {
   "cell_type": "code",
   "execution_count": 2,
   "id": "b8b3f037",
   "metadata": {
    "execution": {
     "iopub.execute_input": "2023-04-20T16:13:31.104463Z",
     "iopub.status.busy": "2023-04-20T16:13:31.104030Z",
     "iopub.status.idle": "2023-04-20T16:13:31.110107Z",
     "shell.execute_reply": "2023-04-20T16:13:31.108913Z"
    },
    "papermill": {
     "duration": 0.01417,
     "end_time": "2023-04-20T16:13:31.112656",
     "exception": false,
     "start_time": "2023-04-20T16:13:31.098486",
     "status": "completed"
    },
    "tags": []
   },
   "outputs": [],
   "source": [
    "def get_mae(max_leaf_nodes, train_X, val_X, train_y, val_y):\n",
    "    model = DecisionTreeRegressor(max_leaf_nodes=max_leaf_nodes, random_state=0)\n",
    "    model.fit(train_X, train_y)\n",
    "    preds_val = model.predict(val_X)\n",
    "    mae = mean_absolute_error(val_y, preds_val)\n",
    "    return(mae)"
   ]
  },
  {
   "cell_type": "markdown",
   "id": "f265e9a8",
   "metadata": {
    "papermill": {
     "duration": 0.003442,
     "end_time": "2023-04-20T16:13:31.119956",
     "exception": false,
     "start_time": "2023-04-20T16:13:31.116514",
     "status": "completed"
    },
    "tags": []
   },
   "source": [
    "## Step 1: Compare Different Tree Sizes\n",
    "Write a loop that tries the following values for *max_leaf_nodes* from a set of possible values.\n",
    "\n",
    "Call the *get_mae* function on each value of max_leaf_nodes. Store the output in some way that allows you to select the value of `max_leaf_nodes` that gives the most accurate model on your data."
   ]
  },
  {
   "cell_type": "code",
   "execution_count": 3,
   "id": "6aae04b4",
   "metadata": {
    "execution": {
     "iopub.execute_input": "2023-04-20T16:13:31.128936Z",
     "iopub.status.busy": "2023-04-20T16:13:31.128541Z",
     "iopub.status.idle": "2023-04-20T16:13:31.180515Z",
     "shell.execute_reply": "2023-04-20T16:13:31.178989Z"
    },
    "papermill": {
     "duration": 0.059565,
     "end_time": "2023-04-20T16:13:31.183044",
     "exception": false,
     "start_time": "2023-04-20T16:13:31.123479",
     "status": "completed"
    },
    "tags": []
   },
   "outputs": [
    {
     "name": "stdout",
     "output_type": "stream",
     "text": [
      "Max leaf nodes: 5  \t\t Mean Absolute Error:  35044\n",
      "Max leaf nodes: 25  \t\t Mean Absolute Error:  29016\n",
      "Max leaf nodes: 50  \t\t Mean Absolute Error:  27405\n",
      "Max leaf nodes: 100  \t\t Mean Absolute Error:  27282\n",
      "Max leaf nodes: 250  \t\t Mean Absolute Error:  27893\n",
      "Max leaf nodes: 500  \t\t Mean Absolute Error:  29454\n"
     ]
    },
    {
     "data": {
      "application/javascript": [
       "parent.postMessage({\"jupyterEvent\": \"custom.exercise_interaction\", \"data\": {\"outcomeType\": 1, \"valueTowardsCompletion\": 0.5, \"interactionType\": 1, \"questionType\": 1, \"questionId\": \"1_BestTreeSize\", \"learnToolsVersion\": \"0.3.4\", \"failureMessage\": \"\", \"exceptionClass\": \"\", \"trace\": \"\"}}, \"*\")"
      ],
      "text/plain": [
       "<IPython.core.display.Javascript object>"
      ]
     },
     "metadata": {},
     "output_type": "display_data"
    },
    {
     "data": {
      "text/markdown": [
       "<span style=\"color:#33cc33\">Correct</span>"
      ],
      "text/plain": [
       "Correct"
      ]
     },
     "metadata": {},
     "output_type": "display_data"
    }
   ],
   "source": [
    "candidate_max_leaf_nodes = [5, 25, 50, 100, 250, 500]\n",
    "# Write loop to find the ideal tree size from candidate_max_leaf_nodes\n",
    "for leafs in candidate_max_leaf_nodes:\n",
    "    my_mae= get_mae(leafs, train_X, val_X, train_y, val_y)\n",
    "    print(\"Max leaf nodes: %d  \\t\\t Mean Absolute Error:  %d\" %(leafs, my_mae))\n",
    "# Store the best value of max_leaf_nodes (it will be either 5, 25, 50, 100, 250 or 500)\n",
    "best_tree_size = 100\n",
    "\n",
    "# Check your answer\n",
    "step_1.check()"
   ]
  },
  {
   "cell_type": "code",
   "execution_count": 4,
   "id": "1c31fb92",
   "metadata": {
    "execution": {
     "iopub.execute_input": "2023-04-20T16:13:31.193272Z",
     "iopub.status.busy": "2023-04-20T16:13:31.192833Z",
     "iopub.status.idle": "2023-04-20T16:13:31.197649Z",
     "shell.execute_reply": "2023-04-20T16:13:31.196449Z"
    },
    "papermill": {
     "duration": 0.012919,
     "end_time": "2023-04-20T16:13:31.200266",
     "exception": false,
     "start_time": "2023-04-20T16:13:31.187347",
     "status": "completed"
    },
    "tags": []
   },
   "outputs": [],
   "source": [
    "# The lines below will show you a hint or the solution.\n",
    "# step_1.hint() \n",
    "#step_1.solution()"
   ]
  },
  {
   "cell_type": "markdown",
   "id": "e329df37",
   "metadata": {
    "papermill": {
     "duration": 0.003593,
     "end_time": "2023-04-20T16:13:31.208081",
     "exception": false,
     "start_time": "2023-04-20T16:13:31.204488",
     "status": "completed"
    },
    "tags": []
   },
   "source": [
    "## Step 2: Fit Model Using All Data\n",
    "You know the best tree size. If you were going to deploy this model in practice, you would make it even more accurate by using all of the data and keeping that tree size.  That is, you don't need to hold out the validation data now that you've made all your modeling decisions."
   ]
  },
  {
   "cell_type": "code",
   "execution_count": 5,
   "id": "c96009f0",
   "metadata": {
    "execution": {
     "iopub.execute_input": "2023-04-20T16:13:31.217948Z",
     "iopub.status.busy": "2023-04-20T16:13:31.216959Z",
     "iopub.status.idle": "2023-04-20T16:13:31.234908Z",
     "shell.execute_reply": "2023-04-20T16:13:31.233710Z"
    },
    "papermill": {
     "duration": 0.025565,
     "end_time": "2023-04-20T16:13:31.237505",
     "exception": false,
     "start_time": "2023-04-20T16:13:31.211940",
     "status": "completed"
    },
    "tags": []
   },
   "outputs": [
    {
     "data": {
      "application/javascript": [
       "parent.postMessage({\"jupyterEvent\": \"custom.exercise_interaction\", \"data\": {\"outcomeType\": 1, \"valueTowardsCompletion\": 0.5, \"interactionType\": 1, \"questionType\": 2, \"questionId\": \"2_FitModelWithAllData\", \"learnToolsVersion\": \"0.3.4\", \"failureMessage\": \"\", \"exceptionClass\": \"\", \"trace\": \"\"}}, \"*\")"
      ],
      "text/plain": [
       "<IPython.core.display.Javascript object>"
      ]
     },
     "metadata": {},
     "output_type": "display_data"
    },
    {
     "data": {
      "text/markdown": [
       "<span style=\"color:#33cc33\">Correct</span>"
      ],
      "text/plain": [
       "Correct"
      ]
     },
     "metadata": {},
     "output_type": "display_data"
    }
   ],
   "source": [
    "# Fill in argument to make optimal size and uncomment\n",
    "final_model = DecisionTreeRegressor(max_leaf_nodes = best_tree_size, random_state = 1)\n",
    "\n",
    "# fit the final model and uncomment the next two lines\n",
    "final_model.fit(X,y)\n",
    "\n",
    "# Check your answer\n",
    "step_2.check()"
   ]
  },
  {
   "cell_type": "code",
   "execution_count": 6,
   "id": "2f87724c",
   "metadata": {
    "execution": {
     "iopub.execute_input": "2023-04-20T16:13:31.247806Z",
     "iopub.status.busy": "2023-04-20T16:13:31.247446Z",
     "iopub.status.idle": "2023-04-20T16:13:31.251674Z",
     "shell.execute_reply": "2023-04-20T16:13:31.250431Z"
    },
    "papermill": {
     "duration": 0.012665,
     "end_time": "2023-04-20T16:13:31.254367",
     "exception": false,
     "start_time": "2023-04-20T16:13:31.241702",
     "status": "completed"
    },
    "tags": []
   },
   "outputs": [],
   "source": [
    "# step_2.hint()\n",
    "#step_2.solution()"
   ]
  },
  {
   "cell_type": "markdown",
   "id": "36699d87",
   "metadata": {
    "papermill": {
     "duration": 0.003797,
     "end_time": "2023-04-20T16:13:31.262303",
     "exception": false,
     "start_time": "2023-04-20T16:13:31.258506",
     "status": "completed"
    },
    "tags": []
   },
   "source": [
    "You've tuned this model and improved your results. But we are still using Decision Tree models, which are not very sophisticated by modern machine learning standards. In the next step you will learn to use Random Forests to improve your models even more.\n",
    "\n",
    "# Keep Going\n",
    "\n",
    "You are ready for **[Random Forests](https://www.kaggle.com/dansbecker/random-forests).**\n"
   ]
  },
  {
   "cell_type": "markdown",
   "id": "a71d56d4",
   "metadata": {
    "papermill": {
     "duration": 0.003664,
     "end_time": "2023-04-20T16:13:31.269937",
     "exception": false,
     "start_time": "2023-04-20T16:13:31.266273",
     "status": "completed"
    },
    "tags": []
   },
   "source": [
    "---\n",
    "\n",
    "\n",
    "\n",
    "\n",
    "*Have questions or comments? Visit the [course discussion forum](https://www.kaggle.com/learn/intro-to-machine-learning/discussion) to chat with other learners.*"
   ]
  }
 ],
 "metadata": {
  "kernelspec": {
   "display_name": "Python 3",
   "language": "python",
   "name": "python3"
  },
  "language_info": {
   "codemirror_mode": {
    "name": "ipython",
    "version": 3
   },
   "file_extension": ".py",
   "mimetype": "text/x-python",
   "name": "python",
   "nbconvert_exporter": "python",
   "pygments_lexer": "ipython3",
   "version": "3.7.12"
  },
  "papermill": {
   "default_parameters": {},
   "duration": 12.348004,
   "end_time": "2023-04-20T16:13:31.995635",
   "environment_variables": {},
   "exception": null,
   "input_path": "__notebook__.ipynb",
   "output_path": "__notebook__.ipynb",
   "parameters": {},
   "start_time": "2023-04-20T16:13:19.647631",
   "version": "2.4.0"
  }
 },
 "nbformat": 4,
 "nbformat_minor": 5
}
